{
 "cells": [
  {
   "cell_type": "code",
   "execution_count": 7,
   "metadata": {},
   "outputs": [],
   "source": [
    "# import libraries\n",
    "import pandas as pd\n",
    "import os\n",
    "import matplotlib.pyplot as plt\n",
    "import seaborn as sns"
   ]
  },
  {
   "cell_type": "code",
   "execution_count": 8,
   "metadata": {},
   "outputs": [],
   "source": [
    "# data location\n",
    "file_location = r'./all_names_eng_wales.xlsx'"
   ]
  },
  {
   "cell_type": "code",
   "execution_count": 12,
   "metadata": {},
   "outputs": [
    {
     "name": "stdout",
     "output_type": "stream",
     "text": [
      "  Gender   Name    2020    2019    2018    2017    2016    2015    2014  \\\n",
      "0   Male      A  3848.0  2104.0  3959.0  3996.0  2335.0  2020.0  2964.0   \n",
      "1   Male  A JAY  2960.0     NaN  3011.0  1923.0  2335.0  2707.0  3895.0   \n",
      "2   Male   A.J.     NaN     NaN     NaN     NaN     NaN     NaN     NaN   \n",
      "3   Male  AABAN  3848.0  3937.0  3412.0  2324.0  4810.0  2319.0  1281.0   \n",
      "4   Male  AABID  4608.0  3937.0  3959.0  3996.0  4810.0  3004.0  4632.0   \n",
      "\n",
      "     2013  ...    2005    2004  2003    2002    2001    2000    1999    1998  \\\n",
      "0  2660.0  ...     NaN     NaN   NaN     NaN  3134.0     NaN     NaN     NaN   \n",
      "1  2403.0  ...  3849.0  1878.0   NaN  2636.0  3134.0     NaN     NaN     NaN   \n",
      "2     NaN  ...     NaN     NaN   NaN     NaN     NaN     NaN  2943.0     NaN   \n",
      "3  1706.0  ...     NaN     NaN   NaN     NaN     NaN     NaN     NaN     NaN   \n",
      "4     NaN  ...     NaN     NaN   NaN     NaN  3134.0  2142.0     NaN  2901.0   \n",
      "\n",
      "   1997  1996  \n",
      "0   NaN   NaN  \n",
      "1   NaN   NaN  \n",
      "2   NaN   NaN  \n",
      "3   NaN   NaN  \n",
      "4   NaN   NaN  \n",
      "\n",
      "[5 rows x 27 columns]\n"
     ]
    }
   ],
   "source": [
    "# import data into dataframe\n",
    "df = pd.read_excel(file_location)\n",
    "print(df.head(5))"
   ]
  },
  {
   "cell_type": "code",
   "execution_count": 14,
   "metadata": {},
   "outputs": [],
   "source": [
    "# transform dataframe into a flat structure\n",
    "all_columns = df.columns\n",
    "date_columns = []\n",
    "for column in all_columns:\n",
    "    if column == 'Gender' or column == 'Name':\n",
    "        continue\n",
    "    else:\n",
    "        date_columns.append(column)\n",
    "        \n",
    "df_flat = pd.melt(df, id_vars=['Gender', 'Name'], value_vars=date_columns)\n",
    "df_flat.rename({'variable': 'Year', 'value': 'Name Count'}, axis=1, inplace=True)"
   ]
  },
  {
   "cell_type": "code",
   "execution_count": 15,
   "metadata": {},
   "outputs": [
    {
     "name": "stdout",
     "output_type": "stream",
     "text": [
      "<class 'pandas.core.frame.DataFrame'>\n",
      "Int64Index: 62050 entries, 5 to 944842\n",
      "Data columns (total 4 columns):\n",
      " #   Column      Non-Null Count  Dtype  \n",
      "---  ------      --------------  -----  \n",
      " 0   Gender      62050 non-null  object \n",
      " 1   Name        62050 non-null  object \n",
      " 2   Year        62050 non-null  object \n",
      " 3   Name Count  62050 non-null  float64\n",
      "dtypes: float64(1), object(3)\n",
      "memory usage: 2.4+ MB\n",
      "None\n"
     ]
    }
   ],
   "source": [
    "# clean data\n",
    "# remove all capital names in dataframe\n",
    "df_flat['Name'] = df_flat['Name'].str.title()\n",
    "# replace all nan as 0\n",
    "df_flat['Name Count'] = df_flat['Name Count'].fillna(0)\n",
    "# remove all names with 0 count\n",
    "zero_names = list(dict.fromkeys(df_flat[df_flat['Name Count'] == 0]['Name'].tolist()))\n",
    "df_flat = df_flat[~df_flat['Name'].isin(zero_names)]\n",
    "print(df_flat.info())"
   ]
  },
  {
   "cell_type": "code",
   "execution_count": 16,
   "metadata": {},
   "outputs": [],
   "source": [
    "# calculate the difference in name change\n",
    "# sort the dataframe correctly\n",
    "df_flat.sort_values(by=['Name', 'Year'], ascending=True, inplace=True)\n",
    "# actual change\n",
    "df_flat['diff_count'] = df_flat.groupby(['Gender', 'Name'])['Name Count'].diff().fillna(0)\n",
    "# percentage change\n",
    "df_flat['diff_perc'] = df_flat.groupby(['Gender', 'Name'])['Name Count'].pct_change().fillna(0)"
   ]
  },
  {
   "cell_type": "code",
   "execution_count": 17,
   "metadata": {},
   "outputs": [
    {
     "name": "stdout",
     "output_type": "stream",
     "text": [
      "['Stevie', 'Luc', 'Acacia', 'Anneliese', 'Zulekha', 'Haashim', 'Marika', 'Rylan', 'Bonita', 'Celina', 'Salih', 'Kyrah', 'Kayley', 'Jessica', 'Sophie', 'Chloe', 'Harry', 'Raza', 'Llewelyn']\n"
     ]
    }
   ],
   "source": [
    "# find the top 20 % change\n",
    "top20_perc = df_flat.sort_values(by=['diff_perc'], ascending=False)\n",
    "top20_perc = top20_perc.head(20)\n",
    "top_20_perc_list = list(dict.fromkeys(top20_perc['Name'].tolist()))\n",
    "print(top_20_perc_list)"
   ]
  },
  {
   "cell_type": "code",
   "execution_count": 18,
   "metadata": {},
   "outputs": [
    {
     "name": "stdout",
     "output_type": "stream",
     "text": [
      "['Bonita', 'Zulekha', 'Kayley', 'Safina', 'Yvonne', 'Catarina', 'Avril', 'Michal', 'Zaira', 'Luc', 'Rowena', 'Anneliese', 'Stevie', 'Warda', 'Gwyneth', 'Reema', 'Latifah', 'Sanya', 'Xenia']\n"
     ]
    }
   ],
   "source": [
    "# find the top 20 count change\n",
    "top20_count = df_flat.sort_values(by=['diff_count'], ascending=False)\n",
    "top20_count = top20_count.head(20)\n",
    "top20_count_list = list(dict.fromkeys(top20_count['Name'].tolist()))\n",
    "print(top20_count_list)"
   ]
  },
  {
   "cell_type": "code",
   "execution_count": 20,
   "metadata": {},
   "outputs": [
    {
     "name": "stdout",
     "output_type": "stream",
     "text": [
      "       Gender   Name  Year  Name Count  diff_count  diff_perc\n",
      "916293   Male  Lewis  1996        24.0         0.0   0.000000\n",
      "878498   Male  Lewis  1997        21.0        -3.0  -0.125000\n",
      "840703   Male  Lewis  1998        18.0        -3.0  -0.142857\n",
      "802908   Male  Lewis  1999        13.0        -5.0  -0.277778\n",
      "765113   Male  Lewis  2000        13.0         0.0   0.000000\n",
      "727318   Male  Lewis  2001        10.0        -3.0  -0.230769\n",
      "689523   Male  Lewis  2002        14.0         4.0   0.400000\n",
      "651728   Male  Lewis  2003        13.0        -1.0  -0.071429\n",
      "613933   Male  Lewis  2004        14.0         1.0   0.076923\n",
      "576138   Male  Lewis  2005        19.0         5.0   0.357143\n",
      "538343   Male  Lewis  2006        21.0         2.0   0.105263\n",
      "500548   Male  Lewis  2007        16.0        -5.0  -0.238095\n",
      "462753   Male  Lewis  2008        14.0        -2.0  -0.125000\n",
      "424958   Male  Lewis  2009        21.0         7.0   0.500000\n",
      "387163   Male  Lewis  2010        27.0         6.0   0.285714\n",
      "349368   Male  Lewis  2011        39.0        12.0   0.444444\n",
      "311573   Male  Lewis  2012        43.0         4.0   0.102564\n",
      "273778   Male  Lewis  2013        46.0         3.0   0.069767\n",
      "235983   Male  Lewis  2014        46.0         0.0   0.000000\n",
      "198188   Male  Lewis  2015        56.0        10.0   0.217391\n",
      "160393   Male  Lewis  2016        75.0        19.0   0.339286\n",
      "122598   Male  Lewis  2017        85.0        10.0   0.133333\n",
      "84803    Male  Lewis  2018       104.0        19.0   0.223529\n",
      "47008    Male  Lewis  2019       112.0         8.0   0.076923\n",
      "9213     Male  Lewis  2020       116.0         4.0   0.035714\n"
     ]
    },
    {
     "data": {
      "image/png": "[encoded data removed]",
      "text/plain": [
       "<Figure size 432x288 with 1 Axes>"
      ]
     },
     "metadata": {
      "needs_background": "light"
     },
     "output_type": "display_data"
    }
   ],
   "source": [
    "# check names\n",
    "name = 'Lewis'\n",
    "name_selection_df = df_flat[df_flat['Name'] == name]\n",
    "print(name_selection_df)\n",
    "# plot\n",
    "g = sns.lineplot(data=name_selection_df, x='Year', y='Name Count')\n",
    "g.axvline(2008, color='#FF6B6B')\n",
    "plt.show()"
   ]
  },
  {
   "cell_type": "code",
   "execution_count": null,
   "metadata": {},
   "outputs": [],
   "source": []
  }
 ],
 "metadata": {
  "kernelspec": {
   "display_name": "Python 3",
   "language": "python",
   "name": "python3"
  },
  "language_info": {
   "codemirror_mode": {
    "name": "ipython",
    "version": 3
   },
   "file_extension": ".py",
   "mimetype": "text/x-python",
   "name": "python",
   "nbconvert_exporter": "python",
   "pygments_lexer": "ipython3",
   "version": "3.8.5"
  }
 },
 "nbformat": 4,
 "nbformat_minor": 4
}
